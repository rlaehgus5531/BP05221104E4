{
  "nbformat": 4,
  "nbformat_minor": 0,
  "metadata": {
    "colab": {
      "provenance": [],
      "authorship_tag": "ABX9TyNPkrSn4yPYU1S9O3MEKoDf",
      "include_colab_link": true
    },
    "kernelspec": {
      "name": "python3",
      "display_name": "Python 3"
    },
    "language_info": {
      "name": "python"
    }
  },
  "cells": [
    {
      "cell_type": "markdown",
      "metadata": {
        "id": "view-in-github",
        "colab_type": "text"
      },
      "source": [
        "<a href=\"https://colab.research.google.com/github/rlaehgus5531/BP05221104E4/blob/main/BP05221104E4.ipynb\" target=\"_parent\"><img src=\"https://colab.research.google.com/assets/colab-badge.svg\" alt=\"Open In Colab\"/></a>"
      ]
    },
    {
      "cell_type": "markdown",
      "source": [
        "1.왜 다음과 같은 수식이 오류를 발섕시키는가?올바르게 수정하라\n",
        "\n",
        "(보기) '나는' + 12 + '개의 사과를 먹었다.'\n",
        "\n"
      ],
      "metadata": {
        "id": "oSwmg3R_bopr"
      }
    },
    {
      "cell_type": "code",
      "source": [
        "print('나는'+ str(12)+'개의 사과를 먹었다')"
      ],
      "metadata": {
        "colab": {
          "base_uri": "https://localhost:8080/"
        },
        "id": "HiyLNnNTbvSb",
        "outputId": "c74f54e7-9593-41ce-e174-c2b317302bf0"
      },
      "execution_count": 8,
      "outputs": [
        {
          "output_type": "stream",
          "name": "stdout",
          "text": [
            "나는12개의 사과를 먹었다\n"
          ]
        }
      ]
    },
    {
      "cell_type": "markdown",
      "source": [
        "2.다음 과 같은 수식을 계산하면 결과는무엇인가?\n",
        "\n",
        "'apple' + 'grape'\n",
        "\n",
        "'appIe' * 3\n",
        "\n"
      ],
      "metadata": {
        "id": "s8x9Xtm5cOil"
      }
    },
    {
      "cell_type": "code",
      "source": [
        "print('apple'+'grape')\n",
        "print('apple'*3)"
      ],
      "metadata": {
        "colab": {
          "base_uri": "https://localhost:8080/"
        },
        "id": "x-RlMFMkcfn5",
        "outputId": "8a71181e-44b6-4420-d017-ac31253b761e"
      },
      "execution_count": 9,
      "outputs": [
        {
          "output_type": "stream",
          "name": "stdout",
          "text": [
            "applegrape\n",
            "appleappleapple\n"
          ]
        }
      ]
    },
    {
      "cell_type": "markdown",
      "source": [
        "3.다음 과 같이 사용자가 입럭한 문자열 중 에서 처음 2글자 와마지막 2 글자를 추출한 후에 이들을 합쳐서 출력해보자\n"
      ],
      "metadata": {
        "id": "5vCyNH9ucwXX"
      }
    },
    {
      "cell_type": "code",
      "source": [
        "str = input(\"문자열을 입력하시오:\")\n",
        "s = str[0:2] +str[-2:]\n",
        "\n",
        "print(s)"
      ],
      "metadata": {
        "colab": {
          "base_uri": "https://localhost:8080/"
        },
        "id": "F7tOMt-Jc7Nq",
        "outputId": "6afb8fbc-bd6f-498e-e7e1-7dab0c13d590"
      },
      "execution_count": 11,
      "outputs": [
        {
          "output_type": "stream",
          "name": "stdout",
          "text": [
            "문자열을 입력하시오:python\n",
            "pyon\n"
          ]
        }
      ]
    },
    {
      "cell_type": "markdown",
      "source": [
        "4.다음과같이 사용자가 입력한 문자열 뒤에 항상“하는중\"을 붙이는프로그램을작성해보자.\n"
      ],
      "metadata": {
        "id": "P26N7byvdj1d"
      }
    },
    {
      "cell_type": "code",
      "source": [
        "s=input(\"문자열을 입력하시오:\")\n",
        "s += \"하는 중\"\n",
        "print(s)"
      ],
      "metadata": {
        "colab": {
          "base_uri": "https://localhost:8080/"
        },
        "id": "kD0AyjldduPN",
        "outputId": "15dd8b8e-af3f-425b-c811-c786841743c5"
      },
      "execution_count": 13,
      "outputs": [
        {
          "output_type": "stream",
          "name": "stdout",
          "text": [
            "문자열을 입력하시오:청소\n",
            "청소하는 중\n"
          ]
        }
      ]
    },
    {
      "cell_type": "markdown",
      "source": [
        "5.사용자가 입력한기호 안에 문자열을 삽입하려면 어떻게 해야하는가? 기호는 분자2개로 이루어있다고 가정한다.\n"
      ],
      "metadata": {
        "id": "WaHd9n4deEor"
      }
    },
    {
      "cell_type": "code",
      "source": [
        "str=input(\"기호를 입력하시오:\")\n",
        "word=input(\"중간에 삽입할 문자열을 입력하시오\")\n",
        "s = str[:1] + word + str[1:]\n",
        "\n",
        "print(s)"
      ],
      "metadata": {
        "colab": {
          "base_uri": "https://localhost:8080/"
        },
        "id": "AM81K1k8ePGw",
        "outputId": "84114222-9e7c-4fcd-997c-f7517895b2fb"
      },
      "execution_count": 14,
      "outputs": [
        {
          "output_type": "stream",
          "name": "stdout",
          "text": [
            "기호를 입력하시오:[]\n",
            "중간에 삽입할 문자열을 입력하시오python\n",
            "[python]\n"
          ]
        }
      ]
    },
    {
      "cell_type": "markdown",
      "source": [
        "6.4개의 숫자가 들어 있는 리스트가 있다. 리스트 안의 숫자들을 꺼내서 합계를계산하여 츨력하는 프로그램 을 작성하라 반복문은 사용하지 않는다 리스트의 길이는 항상 4라고 가정한다.\n"
      ],
      "metadata": {
        "id": "JrMdjRI6elQr"
      }
    },
    {
      "cell_type": "code",
      "source": [
        "lista = [1, 2, 3, 4]\n",
        "sum = 0\n",
        "sum = lista[0] + lista[1] + lista[2]+ lista[3]\n",
        "print(\"리스트 =\", lista)\n",
        "print(\"리스트 숫자들의 합 = \", sum)"
      ],
      "metadata": {
        "colab": {
          "base_uri": "https://localhost:8080/"
        },
        "id": "clR1B0zae0KV",
        "outputId": "a40bbad2-8504-410f-be68-9072c41eb5cc"
      },
      "execution_count": 15,
      "outputs": [
        {
          "output_type": "stream",
          "name": "stdout",
          "text": [
            "리스트 = [1, 2, 3, 4]\n",
            "리스트 숫자들의 합 =  10\n"
          ]
        }
      ]
    },
    {
      "cell_type": "markdown",
      "source": [
        "7.사용자가 입력하는 3가지 색상을 리스트에 저장하였다가 하나씩 꺼내서 그색상으로 채워진 원을 그리는 프로그램을 작성해보자 반복분은 사용하지 않는다 채워진 원을 그리려면 다음와 같은 문장들을 사용한다\n",
        "\n",
        "t.fillcoIor(\"yellow\")  # 채워지는 색상을 지정한다.\n",
        "\n",
        "t.begin_fill()         # 채우기를 시작한다.\n",
        "\n",
        "t.circIe(50)           # 채워진 원을 그린다.\n",
        "\n",
        "t.end_fill()            # 채우기를 종료한다.\n"
      ],
      "metadata": {
        "id": "uLOCJzWofS1l"
      }
    },
    {
      "cell_type": "code",
      "source": [
        "import turtle\n",
        "t = turtle.Turtle()\n",
        "t.shape(\"turtle\")\n",
        "\n",
        "lista = [ ]\n",
        "color = input(\"색상을 #1을입력하시오:\")\n",
        "lista.append(color)\n",
        "color = input(\"색상을 #2을입력하시오:\")\n",
        "lista.append(color)\n",
        "color = input(\"색상을 #3을입력하시오:\")\n",
        "lista.append(color)\n",
        "\n",
        "t.fillcolor(lista[0])\n",
        "t.begin_fill()\n",
        "t.circle(50)\n",
        "t.end_fill()\n",
        "\n",
        "t.up()\n",
        "t.goto(100,0)\n",
        "t.down()\n",
        "t.fillcolor(lista[1])\n",
        "t.begin_fill()\n",
        "t.circle(50)\n",
        "t.end_fill()\n",
        "\n",
        "t.up()\n",
        "t.goto(200,0)\n",
        "t.down()\n",
        "t.fillcolor(lista[2])\n",
        "t.begin_fill()\n",
        "t.circle(50)\n",
        "t.end_fill()\n",
        "t._screen.exitonclick()"
      ],
      "metadata": {
        "id": "4PtShs8Lf-Ly"
      },
      "execution_count": null,
      "outputs": []
    },
    {
      "cell_type": "markdown",
      "source": [
        "8.사용자가 입럭하는3개의 좌표(x,y)를 리스트에 저장한다 이들 좌표를꺼내서 거북이를 이동하는 프로그램을 작성해보자\n"
      ],
      "metadata": {
        "id": "L-hH4fChh2Fp"
      }
    },
    {
      "cell_type": "code",
      "source": [
        "import turtle\n",
        "t = turtle.Turtle()\n",
        "t.shape(\"turtle\")\n",
        "\n",
        "lista = [ ]\n",
        "lista.append(int(input(\"x1: \")))\n",
        "lista.append(int(input(\"y1: \")))\n",
        "lista.append(int(input(\"x2: \")))\n",
        "lista.append(int(input(\"y2: \")))\n",
        "lista.append(int(input(\"x3: \")))\n",
        "lista.append(int(input(\"y3: \")))\n",
        "\n",
        "t.goto(lista[0], lista[1])\n",
        "t.goto(lista[2], lista[3])\n",
        "t.goto(lista[4], lista[5])\n",
        "t._screen.exitonclick()"
      ],
      "metadata": {
        "id": "eKmEDQO7km4R"
      },
      "execution_count": null,
      "outputs": []
    }
  ]
}